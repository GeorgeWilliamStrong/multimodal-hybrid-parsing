{
 "cells": [
  {
   "cell_type": "code",
   "execution_count": 1,
   "metadata": {},
   "outputs": [
    {
     "name": "stderr",
     "output_type": "stream",
     "text": [
      "/opt/miniconda3/envs/multimodal-hybrid-parsing/lib/python3.12/site-packages/tqdm/auto.py:21: TqdmWarning: IProgress not found. Please update jupyter and ipywidgets. See https://ipywidgets.readthedocs.io/en/stable/user_install.html\n",
      "  from .autonotebook import tqdm as notebook_tqdm\n"
     ]
    }
   ],
   "source": [
    "from typing import List, Tuple\n",
    "from docling.document_converter import (\n",
    "    DocumentConverter,\n",
    "    PdfFormatOption,\n",
    "    WordFormatOption,\n",
    "    PowerpointFormatOption\n",
    ")\n",
    "from docling.datamodel.base_models import InputFormat, DocumentStream\n",
    "from docling.datamodel.pipeline_options import (\n",
    "    AcceleratorDevice,\n",
    "    AcceleratorOptions, \n",
    "    PdfPipelineOptions,\n",
    ")\n",
    "from docling_core.types.doc import PictureItem\n",
    "from docling.pipeline.simple_pipeline import SimplePipeline\n",
    "import io\n",
    "import base64\n",
    "import mimetypes\n",
    "import subprocess\n",
    "from pathlib import Path"
   ]
  },
  {
   "cell_type": "code",
   "execution_count": 2,
   "metadata": {},
   "outputs": [],
   "source": [
    "class DocumentProcessor:\n",
    "    def __init__(self):\n",
    "        self.pipeline_options = PdfPipelineOptions()\n",
    "        self.pipeline_options.images_scale = 150/72.0\n",
    "        self.pipeline_options.generate_page_images = True\n",
    "        self.pipeline_options.generate_picture_images = True\n",
    "        self.pipeline_options.do_formula_enrichment = True\n",
    "        self.pipeline_options.accelerator_options = AcceleratorOptions(\n",
    "            num_threads=8,\n",
    "            device=AcceleratorDevice.CUDA\n",
    "        )\n",
    "        self.pipeline_options.do_picture_description = False\n",
    "        self.converter = DocumentConverter(\n",
    "            allowed_formats=[\n",
    "                InputFormat.PDF,\n",
    "                InputFormat.PPTX,\n",
    "                InputFormat.DOCX\n",
    "            ],\n",
    "            format_options={\n",
    "                InputFormat.PDF: PdfFormatOption(\n",
    "                    pipeline_options=self.pipeline_options\n",
    "                ),\n",
    "                InputFormat.PPTX: PowerpointFormatOption(\n",
    "                    pipeline_cls=SimplePipeline\n",
    "                ),\n",
    "                InputFormat.DOCX: WordFormatOption(\n",
    "                    pipeline_cls=SimplePipeline\n",
    "                )\n",
    "            }\n",
    "        )\n",
    "\n",
    "    def __call__(\n",
    "        self, \n",
    "        base64_content: str\n",
    "    ) -> Tuple[List[str], List[str], List[int]]:\n",
    "        # Decode base64 content to bytes\n",
    "        doc_content = base64.b64decode(base64_content)\n",
    "\n",
    "        # Create BytesIO object and DocumentStream\n",
    "        doc_stream = io.BytesIO(doc_content)\n",
    "        source = DocumentStream(name=\"doc\", stream=doc_stream)\n",
    "\n",
    "        # Convert using DocumentStream\n",
    "        result = self.converter.convert(source)\n",
    "\n",
    "        extracted_images = []\n",
    "        markdown_pages = []\n",
    "        pages_with_images = []\n",
    "        # Extract images\n",
    "        for element, _level in result.document.iterate_items():\n",
    "            if isinstance(element, PictureItem):\n",
    "                # For DOCX files, we'll use a default page number of 1 since the number of pages aren't properly registered (Docling bug)\n",
    "                page_no = element.prov[0].page_no if element.prov else 1\n",
    "                if hasattr(element, 'image') and element.image is not None:\n",
    "                    extracted_images.append(str(element.image.uri))\n",
    "                    pages_with_images.append(page_no)\n",
    "        # For DOCX files, we need to handle the case where num_pages() returns 0\n",
    "        if result.document.num_pages() == 0:\n",
    "            # Get markdown for the entire document as a single page\n",
    "            full_md = result.document.export_to_markdown()\n",
    "            markdown_pages.append(full_md)\n",
    "        else:\n",
    "            # Process markdown pages normally for PDF and PPTX\n",
    "            for page in range(result.document.num_pages()):\n",
    "                page_no = page + 1\n",
    "                page_md = result.document.export_to_markdown(page_no=page_no)\n",
    "                markdown_pages.append(page_md)\n",
    "        return markdown_pages, extracted_images, pages_with_images"
   ]
  },
  {
   "cell_type": "code",
   "execution_count": 3,
   "metadata": {},
   "outputs": [],
   "source": [
    "doc_processor = DocumentProcessor()"
   ]
  },
  {
   "cell_type": "code",
   "execution_count": 4,
   "metadata": {},
   "outputs": [],
   "source": [
    "def convert_file(input_path: str, output_format: str) -> Path:\n",
    "    \"\"\"\n",
    "    Convert a file to the specified format using LibreOffice.\n",
    "    \n",
    "    Args:\n",
    "        input_path: Path to input file\n",
    "        output_format: Target format (e.g., 'docx', 'pptx')\n",
    "        \n",
    "    Returns:\n",
    "        Path to converted file\n",
    "    \"\"\"\n",
    "    print(f\"Converting {input_path} to {output_format}\")\n",
    "    input_path = Path(input_path)\n",
    "    output_dir = input_path.parent\n",
    "    \n",
    "    command = [\n",
    "        \"soffice\",\n",
    "        \"--headless\",\n",
    "        \"--convert-to\", output_format,\n",
    "        str(input_path),\n",
    "        \"--outdir\", str(output_dir)\n",
    "    ]\n",
    "    \n",
    "    try:\n",
    "        subprocess.run(command, check=True, capture_output=True)\n",
    "        return output_dir / f\"{input_path.stem}.{output_format}\"\n",
    "    except subprocess.CalledProcessError as e:\n",
    "        raise RuntimeError(f\"Conversion failed: {e.stderr.decode()}\")\n",
    "\n",
    "def get_base64_content(file_path: str) -> str:\n",
    "    \"\"\"\n",
    "    Convert file to base64 with proper MIME type prefix.\n",
    "    \n",
    "    Args:\n",
    "        file_path: Path to the file\n",
    "        \n",
    "    Returns:\n",
    "        Base64 encoded string with MIME type prefix\n",
    "    \"\"\"\n",
    "    file_path = Path(file_path)\n",
    "    mime_type, _ = mimetypes.guess_type(str(file_path))\n",
    "    \n",
    "    with open(file_path, 'rb') as file:\n",
    "        encoded_string = base64.b64encode(file.read()).decode('utf-8')\n",
    "    \n",
    "    return f\"data:{mime_type};base64,{encoded_string}\"\n",
    "\n",
    "def process_document(file_path: str) -> str:\n",
    "    \"\"\"\n",
    "    Process document file, converting if necessary, and return base64 content.\n",
    "    \n",
    "    Args:\n",
    "        file_path: Path to the document file\n",
    "        \n",
    "    Returns:\n",
    "        Base64 encoded content with MIME type prefix\n",
    "    \"\"\"\n",
    "    file_path = Path(file_path)\n",
    "    base64_string = get_base64_content(file_path)\n",
    "    prefix = base64_string.split(',')[0]\n",
    "    \n",
    "    # Define format mappings\n",
    "    format_conversions = {\n",
    "        \"data:application/vnd.ms-powerpoint;base64\": \"pptx\",\n",
    "        \"data:application/msword;base64\": \"docx\"\n",
    "    }\n",
    "    \n",
    "    # Check if conversion is needed\n",
    "    if prefix in format_conversions:\n",
    "        try:\n",
    "            # Convert the file\n",
    "            converted_path = convert_file(file_path, format_conversions[prefix])\n",
    "            # Get base64 of converted file\n",
    "            base64_string = get_base64_content(converted_path)\n",
    "            # Clean up converted file\n",
    "            converted_path.unlink()\n",
    "        except Exception as e:\n",
    "            raise RuntimeError(f\"Failed to process document: {str(e)}\")\n",
    "            \n",
    "    return base64_string"
   ]
  },
  {
   "cell_type": "code",
   "execution_count": 11,
   "metadata": {},
   "outputs": [
    {
     "name": "stdout",
     "output_type": "stream",
     "text": [
      "Converting samples/file-sample_500kB.doc to docx\n",
      "Processed content prefix: data:application/vnd.openxmlformats-officedocument.wordprocessingml.document;base64\n"
     ]
    }
   ],
   "source": [
    "base64_content = process_document(\"samples/file-sample_500kB.doc\")\n",
    "print(f\"Processed content prefix: {base64_content.split(',')[0]}\")"
   ]
  },
  {
   "cell_type": "code",
   "execution_count": 12,
   "metadata": {},
   "outputs": [],
   "source": [
    "markdown_pages, extracted_images, pages_with_images = doc_processor(base64_content.split(',')[1])"
   ]
  },
  {
   "cell_type": "code",
   "execution_count": 21,
   "metadata": {},
   "outputs": [
    {
     "data": {
      "text/plain": [
       "'data:image/png;base64'"
      ]
     },
     "execution_count": 21,
     "metadata": {},
     "output_type": "execute_result"
    }
   ],
   "source": [
    "extracted_images[0].split(',')[0]"
   ]
  },
  {
   "cell_type": "code",
   "execution_count": 22,
   "metadata": {},
   "outputs": [
    {
     "name": "stdout",
     "output_type": "stream",
     "text": [
      "# Lorem ipsum\n",
      "\n",
      "## Lorem ipsum dolor sit amet, consectetur adipiscing elit. Nunc ac faucibus odio.\n",
      "\n",
      "Vestibulum neque massa, scelerisque sit amet ligula eu, congue molestie mi. Praesent ut varius sem. Nullam at porttitor arcu, nec lacinia nisi. Ut ac dolor vitae odio interdum condimentum. Vivamus dapibus sodales ex, vitae malesuada ipsum cursus convallis. Maecenas sed egestas nulla, ac condimentum orci. Mauris diam felis, vulputate ac suscipit et, iaculis non est. Curabitur semper arcu ac ligula semper, nec luctus nisl blandit. Integer lacinia ante ac libero lobortis imperdiet. Nullam mollis convallis ipsum, ac accumsan nunc vehicula vitae. Nulla eget justo in felis tristique fringilla. Morbi sit amet tortor quis risus auctor condimentum. Morbi in ullamcorper elit. Nulla iaculis tellus sit amet mauris tempus fringilla.\n",
      "\n",
      "Maecenas mauris lectus, lobortis et purus mattis, blandit dictum tellus.\n",
      "\n",
      "- Maecenas non lorem quis tellus placerat varius.\n",
      "- Nulla facilisi.\n",
      "- Aenean congue fringilla justo ut aliquam.\n",
      "- Mauris id ex erat. Nunc vulputate neque vitae justo facilisis, non condimentum ante sagittis.\n",
      "- Morbi viverra semper lorem nec molestie.\n",
      "- Maecenas tincidunt est efficitur ligula euismod, sit amet ornare est vulputate.\n",
      "\n",
      "In non mauris justo. Duis vehicula mi vel mi pretium, a viverra erat efficitur. Cras aliquam est ac eros varius, id iaculis dui auctor. Duis pretium neque ligula, et pulvinar mi placerat et. Nulla nec nunc sit amet nunc posuere vestibulum. Ut id neque eget tortor mattis tristique. Donec ante est, blandit sit amet tristique vel, lacinia pulvinar arcu. Pellentesque scelerisque fermentum erat, id posuere justo pulvinar ut. Cras id eros sed enim aliquam lobortis. Sed lobortis nisl ut eros efficitur tincidunt. Cras justo mi, porttitor quis mattis vel, ultricies ut purus. Ut facilisis et lacus eu cursus.\n",
      "\n",
      "In eleifend velit vitae libero sollicitudin euismod. Fusce vitae vestibulum velit. Pellentesque vulputate lectus quis pellentesque commodo. Aliquam erat volutpat. Vestibulum in egestas velit. Pellentesque fermentum nisl vitae fringilla venenatis. Etiam id mauris vitae orci maximus ultricies.\n",
      "\n",
      "## Cras fringilla ipsum magna, in fringilla dui commodo a.\n",
      "\n",
      "|    | Lorem ipsum                                             | Lorem ipsum   | Lorem ipsum   |\n",
      "|----|---------------------------------------------------------|---------------|---------------|\n",
      "|  1 | In eleifend velit vitae libero sollicitudin euismod.    | Lorem         |               |\n",
      "|  2 | Cras fringilla ipsum magna, in fringilla dui commodo a. | Ipsum         |               |\n",
      "|  3 | Aliquam erat volutpat.                                  | Lorem         |               |\n",
      "|  4 | Fusce vitae vestibulum velit.                           | Lorem         |               |\n",
      "|  5 | Etiam vehicula luctus fermentum.                        | Ipsum         |               |\n",
      "\n",
      "Etiam vehicula luctus fermentum. In vel metus congue, pulvinar lectus vel, fermentum dui. Maecenas ante orci, egestas ut aliquet sit amet, sagittis a magna. Aliquam ante quam, pellentesque ut dignissim quis, laoreet eget est. Aliquam erat volutpat. Class aptent taciti sociosqu ad litora torquent per conubia nostra, per inceptos himenaeos. Ut ullamcorper justo sapien, in cursus libero viverra eget. Vivamus auctor imperdiet urna, at pulvinar leo posuere laoreet. Suspendisse neque nisl, fringilla at iaculis scelerisque, ornare vel dolor. Ut et pulvinar nunc. Pellentesque fringilla mollis efficitur. Nullam venenatis commodo imperdiet. Morbi velit neque, semper quis lorem quis, efficitur dignissim ipsum. Ut ac lorem sed turpis imperdiet eleifend sit amet id sapien.\n",
      "\n",
      "## Lorem ipsum dolor sit amet, consectetur adipiscing elit.\n",
      "\n",
      "Nunc ac faucibus odio. Vestibulum neque massa, scelerisque sit amet ligula eu, congue molestie mi. Praesent ut varius sem. Nullam at porttitor arcu, nec lacinia nisi. Ut ac dolor vitae odio interdum condimentum. Vivamus dapibus sodales ex, vitae malesuada ipsum cursus convallis. Maecenas sed egestas nulla, ac condimentum orci. Mauris diam felis, vulputate ac suscipit et, iaculis non est. Curabitur semper arcu ac ligula semper, nec luctus nisl blandit. Integer lacinia ante ac libero lobortis imperdiet. Nullam mollis convallis ipsum, ac accumsan nunc vehicula vitae. Nulla eget justo in felis tristique fringilla. Morbi sit amet tortor quis risus auctor condimentum. Morbi in ullamcorper elit. Nulla iaculis tellus sit amet mauris tempus fringilla.\n",
      "\n",
      "### Maecenas mauris lectus, lobortis et purus mattis, blandit dictum tellus.\n",
      "\n",
      "Maecenas non lorem quis tellus placerat varius. Nulla facilisi. Aenean congue fringilla justo ut aliquam. Mauris id ex erat. Nunc vulputate neque vitae justo facilisis, non condimentum ante sagittis. Morbi viverra semper lorem nec molestie. Maecenas tincidunt est efficitur ligula euismod, sit amet ornare est vulputate.\n",
      "\n",
      "In non mauris justo. Duis vehicula mi vel mi pretium, a viverra erat efficitur. Cras aliquam est ac eros varius, id iaculis dui auctor. Duis pretium neque ligula, et pulvinar mi placerat et. Nulla nec nunc sit amet nunc posuere vestibulum. Ut id neque eget tortor mattis tristique. Donec ante est, blandit sit amet tristique vel, lacinia pulvinar arcu. Pellentesque scelerisque fermentum erat, id posuere justo pulvinar ut. Cras id eros sed enim aliquam lobortis. Sed lobortis nisl ut eros efficitur tincidunt. Cras justo mi, porttitor quis mattis vel, ultricies ut purus. Ut facilisis et lacus eu cursus.\n",
      "\n",
      "### In eleifend velit vitae libero sollicitudin euismod.\n",
      "\n",
      "Fusce vitae vestibulum velit. Pellentesque vulputate lectus quis pellentesque commodo. Aliquam erat volutpat. Vestibulum in egestas velit. Pellentesque fermentum nisl vitae fringilla venenatis. Etiam id mauris vitae orci maximus ultricies. Cras fringilla ipsum magna, in fringilla dui commodo a.\n",
      "\n",
      "Etiam vehicula luctus fermentum. In vel metus congue, pulvinar lectus vel, fermentum dui. Maecenas ante orci, egestas ut aliquet sit amet, sagittis a magna. Aliquam ante quam, pellentesque ut dignissim quis, laoreet eget est. Aliquam erat volutpat. Class aptent taciti sociosqu ad litora torquent per conubia nostra, per inceptos himenaeos. Ut ullamcorper justo sapien, in cursus libero viverra eget. Vivamus auctor imperdiet urna, at pulvinar leo posuere laoreet. Suspendisse neque nisl, fringilla at iaculis scelerisque, ornare vel dolor. Ut et pulvinar nunc. Pellentesque fringilla mollis efficitur. Nullam venenatis commodo imperdiet. Morbi velit neque, semper quis lorem quis, efficitur dignissim ipsum. Ut ac lorem sed turpis imperdiet eleifend sit amet id sapien.\n",
      "\n",
      "<!-- image -->\n",
      "\n",
      "### Maecenas mauris lectus, lobortis et purus mattis, blandit dictum tellus.\n",
      "\n",
      "Maecenas non lorem quis tellus placerat varius. Nulla facilisi. Aenean congue fringilla justo ut aliquam. Mauris id ex erat. Nunc vulputate neque vitae justo facilisis, non condimentum ante sagittis. Morbi viverra semper lorem nec molestie. Maecenas tincidunt est efficitur ligula euismod, sit amet ornare est vulputate.\n",
      "\n",
      "In non mauris justo. Duis vehicula mi vel mi pretium, a viverra erat efficitur. Cras aliquam est ac eros varius, id iaculis dui auctor. Duis pretium neque ligula, et pulvinar mi placerat et. Nulla nec nunc sit amet nunc posuere vestibulum. Ut id neque eget tortor mattis tristique. Donec ante est, blandit sit amet tristique vel, lacinia pulvinar arcu. Pellentesque scelerisque fermentum erat, id posuere justo pulvinar ut. Cras id eros sed enim aliquam lobortis. Sed lobortis nisl ut eros efficitur tincidunt. Cras justo mi, porttitor quis mattis vel, ultricies ut purus. Ut facilisis et lacus eu cursus.\n",
      "\n",
      "### In eleifend velit vitae libero sollicitudin euismod.\n",
      "\n",
      "Fusce vitae vestibulum velit. Pellentesque vulputate lectus quis pellentesque commodo. Aliquam erat volutpat. Vestibulum in egestas velit. Pellentesque fermentum nisl vitae fringilla venenatis. Etiam id mauris vitae orci maximus ultricies. Cras fringilla ipsum magna, in fringilla dui commodo a.\n",
      "\n",
      "Etiam vehicula luctus fermentum. In vel metus congue, pulvinar lectus vel, fermentum dui. Maecenas ante orci, egestas ut aliquet sit amet, sagittis a magna. Aliquam ante quam, pellentesque ut dignissim quis, laoreet eget est. Aliquam erat volutpat. Class aptent taciti sociosqu ad litora torquent per conubia nostra, per inceptos himenaeos. Ut ullamcorper justo sapien, in cursus libero viverra eget. Vivamus auctor imperdiet urna, at pulvinar leo posuere laoreet. Suspendisse neque nisl, fringilla at iaculis scelerisque, ornare vel dolor. Ut et pulvinar nunc. Pellentesque fringilla mollis efficitur. Nullam venenatis commodo imperdiet. Morbi velit neque, semper quis lorem quis, efficitur dignissim ipsum. Ut ac lorem sed turpis imperdiet eleifend sit amet id sapien.\n"
     ]
    }
   ],
   "source": [
    "print(\"\\n\\n\".join(markdown_pages))"
   ]
  },
  {
   "cell_type": "code",
   "execution_count": null,
   "metadata": {},
   "outputs": [],
   "source": []
  }
 ],
 "metadata": {
  "kernelspec": {
   "display_name": "multimodal-hybrid-parsing-2",
   "language": "python",
   "name": "python3"
  },
  "language_info": {
   "codemirror_mode": {
    "name": "ipython",
    "version": 3
   },
   "file_extension": ".py",
   "mimetype": "text/x-python",
   "name": "python",
   "nbconvert_exporter": "python",
   "pygments_lexer": "ipython3",
   "version": "3.12.8"
  }
 },
 "nbformat": 4,
 "nbformat_minor": 2
}
